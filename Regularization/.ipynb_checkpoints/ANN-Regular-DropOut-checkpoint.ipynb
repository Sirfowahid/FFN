{
 "cells": [
  {
   "cell_type": "code",
   "execution_count": 1,
   "id": "20e78038",
   "metadata": {},
   "outputs": [],
   "source": [
    "import torch\n",
    "import torch.nn as nn\n",
    "import torch.nn.functional as F\n",
    "import numpy as np\n",
    "import matplotlib.pyplot as plt\n",
    "import seaborn as sns\n",
    "\n",
    "from sklearn.model_selection import train_test_split\n",
    "from torch.utils.data import DataLoader,TensorDataset"
   ]
  },
  {
   "cell_type": "code",
   "execution_count": 5,
   "id": "d069a7b6",
   "metadata": {},
   "outputs": [
    {
     "data": {
      "image/png": "[encoded data removed]",
      "text/plain": [
       "<Figure size 360x360 with 1 Axes>"
      ]
     },
     "metadata": {
      "needs_background": "light"
     },
     "output_type": "display_data"
    }
   ],
   "source": [
    "nPerClust = 200\n",
    "\n",
    "th = np.linspace(0,4*np.pi,nPerClust)\n",
    "r1 = 10\n",
    "r2 = 15\n",
    "\n",
    "a = [r1*np.cos(th) + np.random.randn(nPerClust)*3,\n",
    "    r1*np.sin(th) + np.random.randn(nPerClust)]\n",
    "b = [r2*np.cos(th) + np.random.randn(nPerClust),\n",
    "    r2*np.sin(th) + np.random.randn(nPerClust)*3]\n",
    "\n",
    "labels_np = np.vstack((np.zeros((nPerClust,1)),np.ones((nPerClust,1))))\n",
    "\n",
    "data_np = np.hstack((a,b)).T\n",
    "\n",
    "data = torch.tensor(data_np).float()\n",
    "labels = torch.tensor(labels_np).float()\n",
    "\n",
    "fig = plt.figure(figsize=(5,5))\n",
    "plt.plot(data[np.where(labels==0)[0],0],data[np.where(labels==0)[0],1],'bs')\n",
    "plt.plot(data[np.where(labels==1)[0],0],data[np.where(labels==1)[0],1],'ko')\n",
    "plt.show();"
   ]
  },
  {
   "cell_type": "code",
   "execution_count": 6,
   "id": "bce5e585",
   "metadata": {},
   "outputs": [],
   "source": [
    "train_data,test_data,train_labels,test_labels = train_test_split(data,labels,test_size=.2)\n",
    "\n",
    "train_data = TensorDataset(train_data,train_labels)\n",
    "test_data = TensorDataset(test_data,test_labels)"
   ]
  },
  {
   "cell_type": "code",
   "execution_count": 9,
   "id": "7b5c3db1",
   "metadata": {},
   "outputs": [],
   "source": [
    "batchsize = 16\n",
    "train_loader =  DataLoader(train_data,batch_size=batchsize,shuffle=True)\n",
    "test_loader = DataLoader(test_data,batch_size=test_data.tensors[0].shape[0])"
   ]
  },
  {
   "cell_type": "code",
   "execution_count": 20,
   "id": "80163734",
   "metadata": {},
   "outputs": [],
   "source": [
    "class theModelClass(nn.Module):\n",
    "    def __init__(self,dropoutRate):\n",
    "        super().__init__()\n",
    "        \n",
    "        self.input = nn.Linear(2,128)\n",
    "        self.hidden = nn.Linear(128,128)\n",
    "        self.output = nn.Linear(128,1)\n",
    "        \n",
    "        self.dr = dropoutRate\n",
    "\n",
    "    \n",
    "    def forward(self,x):\n",
    "        \n",
    "        x = F.relu(self.input(x))\n",
    "        \n",
    "        x = F.dropout(x,p=self.dr,training=self.training)\n",
    "        \n",
    "        x = F.relu(self.hidden(x))\n",
    "        \n",
    "        x = F.dropout(x,p=self.dr,training=self.training)\n",
    "        \n",
    "        x = self.output(x)\n",
    "        \n",
    "        return x"
   ]
  },
  {
   "cell_type": "code",
   "execution_count": 21,
   "id": "fe4f0201",
   "metadata": {},
   "outputs": [
    {
     "data": {
      "text/plain": [
       "tensor([[0.2676],\n",
       "        [0.4494],\n",
       "        [0.1108],\n",
       "        [0.1437],\n",
       "        [0.2822],\n",
       "        [0.2782],\n",
       "        [0.4819],\n",
       "        [0.4463],\n",
       "        [0.2344],\n",
       "        [0.4715]], grad_fn=<AddmmBackward0>)"
      ]
     },
     "execution_count": 21,
     "metadata": {},
     "output_type": "execute_result"
    }
   ],
   "source": [
    "tempnet = theModelClass(.25)\n",
    "tempdata = torch.randn((10,2))\n",
    "yHat = tempnet(tempdata)\n",
    "yHat"
   ]
  },
  {
   "cell_type": "code",
   "execution_count": null,
   "id": "8a9c84a9",
   "metadata": {},
   "outputs": [],
   "source": []
  }
 ],
 "metadata": {
  "kernelspec": {
   "display_name": "Python 3 (ipykernel)",
   "language": "python",
   "name": "python3"
  },
  "language_info": {
   "codemirror_mode": {
    "name": "ipython",
    "version": 3
   },
   "file_extension": ".py",
   "mimetype": "text/x-python",
   "name": "python",
   "nbconvert_exporter": "python",
   "pygments_lexer": "ipython3",
   "version": "3.9.12"
  }
 },
 "nbformat": 4,
 "nbformat_minor": 5
}
