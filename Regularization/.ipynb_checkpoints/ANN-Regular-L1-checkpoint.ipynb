{
 "cells": [
  {
   "cell_type": "code",
   "execution_count": 1,
   "id": "d0b44411",
   "metadata": {},
   "outputs": [],
   "source": [
    "import torch\n",
    "import torch.nn as nn\n",
    "import numpy as np\n",
    "import matplotlib.pyplot as plt\n",
    "import seaborn as sns\n",
    "\n",
    "from sklearn.model_selection import train_test_split\n",
    "from torch.utils.data import TensorDataset,DataLoader\n"
   ]
  },
  {
   "cell_type": "code",
   "execution_count": 2,
   "id": "7173f828",
   "metadata": {},
   "outputs": [
    {
     "data": {
      "text/html": [
       "<div>\n",
       "<style scoped>\n",
       "    .dataframe tbody tr th:only-of-type {\n",
       "        vertical-align: middle;\n",
       "    }\n",
       "\n",
       "    .dataframe tbody tr th {\n",
       "        vertical-align: top;\n",
       "    }\n",
       "\n",
       "    .dataframe thead th {\n",
       "        text-align: right;\n",
       "    }\n",
       "</style>\n",
       "<table border=\"1\" class=\"dataframe\">\n",
       "  <thead>\n",
       "    <tr style=\"text-align: right;\">\n",
       "      <th></th>\n",
       "      <th>sepal_length</th>\n",
       "      <th>sepal_width</th>\n",
       "      <th>petal_length</th>\n",
       "      <th>petal_width</th>\n",
       "      <th>species</th>\n",
       "    </tr>\n",
       "  </thead>\n",
       "  <tbody>\n",
       "    <tr>\n",
       "      <th>0</th>\n",
       "      <td>5.1</td>\n",
       "      <td>3.5</td>\n",
       "      <td>1.4</td>\n",
       "      <td>0.2</td>\n",
       "      <td>setosa</td>\n",
       "    </tr>\n",
       "    <tr>\n",
       "      <th>1</th>\n",
       "      <td>4.9</td>\n",
       "      <td>3.0</td>\n",
       "      <td>1.4</td>\n",
       "      <td>0.2</td>\n",
       "      <td>setosa</td>\n",
       "    </tr>\n",
       "    <tr>\n",
       "      <th>2</th>\n",
       "      <td>4.7</td>\n",
       "      <td>3.2</td>\n",
       "      <td>1.3</td>\n",
       "      <td>0.2</td>\n",
       "      <td>setosa</td>\n",
       "    </tr>\n",
       "    <tr>\n",
       "      <th>3</th>\n",
       "      <td>4.6</td>\n",
       "      <td>3.1</td>\n",
       "      <td>1.5</td>\n",
       "      <td>0.2</td>\n",
       "      <td>setosa</td>\n",
       "    </tr>\n",
       "    <tr>\n",
       "      <th>4</th>\n",
       "      <td>5.0</td>\n",
       "      <td>3.6</td>\n",
       "      <td>1.4</td>\n",
       "      <td>0.2</td>\n",
       "      <td>setosa</td>\n",
       "    </tr>\n",
       "  </tbody>\n",
       "</table>\n",
       "</div>"
      ],
      "text/plain": [
       "   sepal_length  sepal_width  petal_length  petal_width species\n",
       "0           5.1          3.5           1.4          0.2  setosa\n",
       "1           4.9          3.0           1.4          0.2  setosa\n",
       "2           4.7          3.2           1.3          0.2  setosa\n",
       "3           4.6          3.1           1.5          0.2  setosa\n",
       "4           5.0          3.6           1.4          0.2  setosa"
      ]
     },
     "execution_count": 2,
     "metadata": {},
     "output_type": "execute_result"
    }
   ],
   "source": [
    "iris = sns.load_dataset('iris')\n",
    "iris.head()"
   ]
  },
  {
   "cell_type": "code",
   "execution_count": 3,
   "id": "3d6df52f",
   "metadata": {},
   "outputs": [],
   "source": [
    "data = torch.tensor(iris[iris.columns[0:4]].values).float()\n",
    "\n",
    "labels = torch.zeros(len(data), dtype=torch.long)\n"
   ]
  },
  {
   "cell_type": "code",
   "execution_count": 4,
   "id": "fb03c121",
   "metadata": {},
   "outputs": [],
   "source": [
    "labels[iris.species == 'versicolor'] = 1\n",
    "labels[iris.species == 'virginica'] = 2"
   ]
  },
  {
   "cell_type": "code",
   "execution_count": 5,
   "id": "06fa825f",
   "metadata": {},
   "outputs": [
    {
     "data": {
      "text/plain": [
       "tensor([0, 1, 2])"
      ]
     },
     "execution_count": 5,
     "metadata": {},
     "output_type": "execute_result"
    }
   ],
   "source": [
    "labels.unique()"
   ]
  },
  {
   "cell_type": "code",
   "execution_count": 6,
   "id": "e011cef6",
   "metadata": {},
   "outputs": [],
   "source": [
    "train_data,test_data,train_labels,test_labels = train_test_split(data,labels,test_size=.2)\n",
    "\n",
    "train_dataset = TensorDataset(train_data,train_labels)\n",
    "test_dataset = TensorDataset(test_data,test_labels)\n",
    "\n",
    "train_loader = DataLoader(train_dataset,batch_size=64,shuffle = True,drop_last = True)\n",
    "test_loader = DataLoader(test_dataset,batch_size=test_dataset.tensors[0].shape[0])"
   ]
  },
  {
   "cell_type": "code",
   "execution_count": 7,
   "id": "bf6641ab",
   "metadata": {},
   "outputs": [],
   "source": [
    "\n",
    "def createANewModel():\n",
    "    ANNiris = nn.Sequential(nn.Linear(4,64),\n",
    "                           nn.ReLU(),\n",
    "                           nn.Linear(64,64),\n",
    "                           nn.ReLU(),\n",
    "                           nn.Linear(64,3))\n",
    "    \n",
    "    lossfun = nn.CrossEntropyLoss()\n",
    "    \n",
    "    optimizer = torch.optim.SGD(ANNiris.parameters(),lr=.005)\n",
    "    \n",
    "    return ANNiris,lossfun,optimizer"
   ]
  },
  {
   "cell_type": "code",
   "execution_count": 9,
   "id": "62c9d8c6",
   "metadata": {},
   "outputs": [
    {
     "name": "stdout",
     "output_type": "stream",
     "text": [
      "Sequential(\n",
      "  (0): Linear(in_features=4, out_features=64, bias=True)\n",
      "  (1): ReLU()\n",
      "  (2): Linear(in_features=64, out_features=64, bias=True)\n",
      "  (3): ReLU()\n",
      "  (4): Linear(in_features=64, out_features=3, bias=True)\n",
      ")\n",
      "0.weight torch.Size([64, 4]) 256\n",
      "0.bias torch.Size([64]) 64\n",
      "2.weight torch.Size([64, 64]) 4096\n",
      "2.bias torch.Size([64]) 64\n",
      "4.weight torch.Size([3, 64]) 192\n",
      "4.bias torch.Size([3]) 3\n"
     ]
    }
   ],
   "source": [
    "tmpmodel = createANewModel()[0]\n",
    "\n",
    "print(tmpmodel)\n",
    "\n",
    "for i in tmpmodel.named_parameters():\n",
    "    print(i[0],i[1].shape,i[1].numel())"
   ]
  },
  {
   "cell_type": "code",
   "execution_count": 10,
   "id": "fab22685",
   "metadata": {},
   "outputs": [
    {
     "ename": "SyntaxError",
     "evalue": "invalid syntax (Temp/ipykernel_12968/3456674515.py, line 29)",
     "output_type": "error",
     "traceback": [
      "\u001b[1;36m  Input \u001b[1;32mIn [10]\u001b[1;36m\u001b[0m\n\u001b[1;33m    for pname,weight in ANNiris.names_parameters(:\u001b[0m\n\u001b[1;37m                                                 ^\u001b[0m\n\u001b[1;31mSyntaxError\u001b[0m\u001b[1;31m:\u001b[0m invalid syntax\n"
     ]
    }
   ],
   "source": [
    "numepochs = 1000\n",
    "\n",
    "def trainTheModel(L1lambda):\n",
    "    \n",
    "    trainAcc = []\n",
    "    testAcc = []\n",
    "    losses = []\n",
    "    \n",
    "    nweight = 0\n",
    "    \n",
    "    for pname,weight in ANNiris.named_parameters():\n",
    "        \n",
    "        if 'bias' not in pname:\n",
    "            \n",
    "            nweights = nweights + weight.numel()\n",
    "            \n",
    "    for epochi in range(numepochs):\n",
    "        \n",
    "        batchAcc = []\n",
    "        batchLoss = []\n",
    "        \n",
    "        for X,y in train_loader:\n",
    "            \n",
    "            yHat = ANNiris(X)\n",
    "            loss = lossfun(yHat,y)\n",
    "            \n",
    "            L1_term = torch.tensor(0.,requires_grad = True)\n",
    "            \n",
    "            for pname,weight in ANNiris.names_parameters():\n",
    "                \n",
    "                L1_term = L1_term + torch.sum(torch.abs(weight))\n",
    "                \n",
    "            loss = loss + L1lambda*L1_term/nweights\n",
    "            \n",
    "            optimizer.zero_grad()\n",
    "            loss.backward()\n",
    "            optimizer.step()\n",
    "            \n",
    "            batchAcc.append(100*torch.mean((torch.argmax(yHat,axis = 1)==y).float()).item())\n",
    "            batchLoss.append(np.mean(batchLoss))\n",
    "            \n",
    "            X,y = next(iter(test_loader))\n",
    "            predlabels = torch.argmax(ANNiris(X),axis = 1 )\n",
    "            testAcc.append(100*torch.mean((predlabels == y).float()).item())"
   ]
  },
  {
   "cell_type": "code",
   "execution_count": null,
   "id": "935e7dbe",
   "metadata": {},
   "outputs": [],
   "source": []
  }
 ],
 "metadata": {
  "kernelspec": {
   "display_name": "Python 3 (ipykernel)",
   "language": "python",
   "name": "python3"
  },
  "language_info": {
   "codemirror_mode": {
    "name": "ipython",
    "version": 3
   },
   "file_extension": ".py",
   "mimetype": "text/x-python",
   "name": "python",
   "nbconvert_exporter": "python",
   "pygments_lexer": "ipython3",
   "version": "3.9.12"
  }
 },
 "nbformat": 4,
 "nbformat_minor": 5
}
