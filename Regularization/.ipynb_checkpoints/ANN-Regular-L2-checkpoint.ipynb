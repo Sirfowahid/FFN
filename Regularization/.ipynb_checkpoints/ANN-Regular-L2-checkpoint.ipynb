{
 "cells": [
  {
   "cell_type": "code",
   "execution_count": 1,
   "id": "0daef990",
   "metadata": {},
   "outputs": [],
   "source": [
    "import torch\n",
    "import torch.nn as nn\n",
    "import numpy as np\n",
    "import seaborn as sns\n",
    "import matplotlib.pyplot as plt\n",
    "\n",
    "from torch.utils.data import TensorDataset,DataLoader\n",
    "from sklearn.model_selection import train_test_split"
   ]
  },
  {
   "cell_type": "code",
   "execution_count": 2,
   "id": "d2b20202",
   "metadata": {},
   "outputs": [
    {
     "data": {
      "text/html": [
       "<div>\n",
       "<style scoped>\n",
       "    .dataframe tbody tr th:only-of-type {\n",
       "        vertical-align: middle;\n",
       "    }\n",
       "\n",
       "    .dataframe tbody tr th {\n",
       "        vertical-align: top;\n",
       "    }\n",
       "\n",
       "    .dataframe thead th {\n",
       "        text-align: right;\n",
       "    }\n",
       "</style>\n",
       "<table border=\"1\" class=\"dataframe\">\n",
       "  <thead>\n",
       "    <tr style=\"text-align: right;\">\n",
       "      <th></th>\n",
       "      <th>sepal_length</th>\n",
       "      <th>sepal_width</th>\n",
       "      <th>petal_length</th>\n",
       "      <th>petal_width</th>\n",
       "      <th>species</th>\n",
       "    </tr>\n",
       "  </thead>\n",
       "  <tbody>\n",
       "    <tr>\n",
       "      <th>0</th>\n",
       "      <td>5.1</td>\n",
       "      <td>3.5</td>\n",
       "      <td>1.4</td>\n",
       "      <td>0.2</td>\n",
       "      <td>setosa</td>\n",
       "    </tr>\n",
       "    <tr>\n",
       "      <th>1</th>\n",
       "      <td>4.9</td>\n",
       "      <td>3.0</td>\n",
       "      <td>1.4</td>\n",
       "      <td>0.2</td>\n",
       "      <td>setosa</td>\n",
       "    </tr>\n",
       "    <tr>\n",
       "      <th>2</th>\n",
       "      <td>4.7</td>\n",
       "      <td>3.2</td>\n",
       "      <td>1.3</td>\n",
       "      <td>0.2</td>\n",
       "      <td>setosa</td>\n",
       "    </tr>\n",
       "    <tr>\n",
       "      <th>3</th>\n",
       "      <td>4.6</td>\n",
       "      <td>3.1</td>\n",
       "      <td>1.5</td>\n",
       "      <td>0.2</td>\n",
       "      <td>setosa</td>\n",
       "    </tr>\n",
       "    <tr>\n",
       "      <th>4</th>\n",
       "      <td>5.0</td>\n",
       "      <td>3.6</td>\n",
       "      <td>1.4</td>\n",
       "      <td>0.2</td>\n",
       "      <td>setosa</td>\n",
       "    </tr>\n",
       "  </tbody>\n",
       "</table>\n",
       "</div>"
      ],
      "text/plain": [
       "   sepal_length  sepal_width  petal_length  petal_width species\n",
       "0           5.1          3.5           1.4          0.2  setosa\n",
       "1           4.9          3.0           1.4          0.2  setosa\n",
       "2           4.7          3.2           1.3          0.2  setosa\n",
       "3           4.6          3.1           1.5          0.2  setosa\n",
       "4           5.0          3.6           1.4          0.2  setosa"
      ]
     },
     "execution_count": 2,
     "metadata": {},
     "output_type": "execute_result"
    }
   ],
   "source": [
    "iris = sns.load_dataset('iris')\n",
    "iris.head()"
   ]
  },
  {
   "cell_type": "code",
   "execution_count": 3,
   "id": "b5bca974",
   "metadata": {},
   "outputs": [
    {
     "data": {
      "text/plain": [
       "tensor([0, 1, 2])"
      ]
     },
     "execution_count": 3,
     "metadata": {},
     "output_type": "execute_result"
    }
   ],
   "source": [
    "data = torch.tensor(iris[iris.columns[0:4]].values).float()\n",
    "\n",
    "labels = torch.zeros(len(data),dtype=torch.long)\n",
    "\n",
    "labels[iris.species == 'versicolor'] = 1\n",
    "labels[iris.species == 'virginica'] = 2\n",
    "\n",
    "labels.unique()"
   ]
  },
  {
   "cell_type": "code",
   "execution_count": 4,
   "id": "e93611e4",
   "metadata": {},
   "outputs": [],
   "source": [
    "train_data,test_data,train_labels,test_labels = train_test_split(data,labels,test_size = 0.2)\n",
    "\n",
    "train_data_ds = TensorDataset(train_data,train_labels)\n",
    "test_data_ds = TensorDataset(test_data,test_labels)\n",
    "\n",
    "train_loader = DataLoader(train_data_ds,batch_size=12,drop_last=True)\n",
    "test_loader = DataLoader(test_data_ds,batch_size=test_data_ds.tensors[0].shape[0])"
   ]
  },
  {
   "cell_type": "raw",
   "id": "2dd56247",
   "metadata": {},
   "source": []
  },
  {
   "cell_type": "code",
   "execution_count": 5,
   "id": "bb2cc1c2",
   "metadata": {},
   "outputs": [],
   "source": [
    "def createANewModel(L2lambda):\n",
    "    \n",
    "    ANNiris = nn.Sequential(nn.Linear(4,64),\n",
    "                           nn.ReLU(),\n",
    "                           nn.Linear(64,64),\n",
    "                           nn.ReLU(),\n",
    "                           nn.Linear(64,3))\n",
    "    lossfun = nn.CrossEntropyLoss()\n",
    "    \n",
    "    optimizer = torch.optim.SGD(ANNiris.parameters(),lr = .005,weight_decay=L2lambda)\n",
    "    \n",
    "    return ANNiris,lossfun,optimizer"
   ]
  },
  {
   "cell_type": "code",
   "execution_count": 11,
   "id": "1111192a",
   "metadata": {},
   "outputs": [],
   "source": [
    "numepochs = 1000\n",
    "\n",
    "def trainTheModel():\n",
    "    \n",
    "    trainAcc = []\n",
    "    testAcc = []\n",
    "    losses = []\n",
    "    \n",
    "    for epochi in range(numepochs):\n",
    "        \n",
    "        batchAcc = []\n",
    "        batchLoss = []\n",
    "        \n",
    "        for X,y in train_loader:\n",
    "            \n",
    "            yHat = ANNiris(X)\n",
    "            loss = lossfun(yHat,y)\n",
    "            \n",
    "            optimizer.zero_grad()\n",
    "            loss.backward()\n",
    "            optimizer.step()\n",
    "            \n",
    "            batchAcc.append(100*torch.mean((torch.argmax(yHat,axis = 1) == y).float()).item())\n",
    "            batchLoss.append(loss.item())\n",
    "            \n",
    "        trainAcc.append(np.mean(batchAcc))\n",
    "        losses.append(np.mean(batchLoss))\n",
    "        \n",
    "        ANNiris.eval()\n",
    "        X,y = next(iter(test_loader))\n",
    "        predlabels = torch.argmax(ANNiris(X),axis=1)\n",
    "        testAcc.append(100*torch.mean((predlabels == y).float()).item())\n",
    "        \n",
    "        ANNiris.train()\n",
    "        \n",
    "    return trainAcc,testAcc,losses"
   ]
  },
  {
   "cell_type": "code",
   "execution_count": 12,
   "id": "0d03cd16",
   "metadata": {},
   "outputs": [],
   "source": [
    "L2lambda = .01\n",
    "ANNiris,lossfun,optimizer = createANewModel(L2lambda)\n",
    "\n",
    "trainAcc,testAcc,losses = trainTheModel()"
   ]
  },
  {
   "cell_type": "code",
   "execution_count": 14,
   "id": "9315a2e9",
   "metadata": {},
   "outputs": [
    {
     "data": {
      "image/png": "[encoded data removed]",
      "text/plain": [
       "<Figure size 1080x360 with 2 Axes>"
      ]
     },
     "metadata": {
      "needs_background": "light"
     },
     "output_type": "display_data"
    }
   ],
   "source": [
    "fig,ax = plt.subplots(1,2,figsize = (15,5))\n",
    "\n",
    "ax[0].plot(losses,'k^-')\n",
    "ax[0].set_title('Losses with L2: '+str(L2lambda))\n",
    "\n",
    "ax[1].plot(trainAcc,'ro-')\n",
    "ax[1].plot(testAcc,'bs-')\n",
    "ax[1].set_title('Accuracy with L2: '+str(L2lambda))\n",
    "ax[1].legend(['train','test'])\n",
    "plt.show();"
   ]
  },
  {
   "cell_type": "code",
   "execution_count": null,
   "id": "1e29489c",
   "metadata": {},
   "outputs": [],
   "source": []
  }
 ],
 "metadata": {
  "kernelspec": {
   "display_name": "Python 3 (ipykernel)",
   "language": "python",
   "name": "python3"
  },
  "language_info": {
   "codemirror_mode": {
    "name": "ipython",
    "version": 3
   },
   "file_extension": ".py",
   "mimetype": "text/x-python",
   "name": "python",
   "nbconvert_exporter": "python",
   "pygments_lexer": "ipython3",
   "version": "3.9.12"
  }
 },
 "nbformat": 4,
 "nbformat_minor": 5
}
