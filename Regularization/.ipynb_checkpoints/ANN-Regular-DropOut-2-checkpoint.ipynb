{
 "cells": [
  {
   "cell_type": "code",
   "execution_count": 1,
   "id": "879651aa",
   "metadata": {},
   "outputs": [],
   "source": [
    "import torch\n",
    "import torch.nn as nn\n",
    "import numpy as np\n",
    "import matplotlib.pyplot as plt\n",
    "import seaborn as sns\n",
    "import torch.nn.functional as F\n",
    "from torch.utils.data import TensorDataset,DataLoader\n",
    "from sklearn.model_selection import train_test_split"
   ]
  },
  {
   "cell_type": "code",
   "execution_count": 2,
   "id": "0aad1f4c",
   "metadata": {},
   "outputs": [
    {
     "data": {
      "text/html": [
       "<div>\n",
       "<style scoped>\n",
       "    .dataframe tbody tr th:only-of-type {\n",
       "        vertical-align: middle;\n",
       "    }\n",
       "\n",
       "    .dataframe tbody tr th {\n",
       "        vertical-align: top;\n",
       "    }\n",
       "\n",
       "    .dataframe thead th {\n",
       "        text-align: right;\n",
       "    }\n",
       "</style>\n",
       "<table border=\"1\" class=\"dataframe\">\n",
       "  <thead>\n",
       "    <tr style=\"text-align: right;\">\n",
       "      <th></th>\n",
       "      <th>sepal_length</th>\n",
       "      <th>sepal_width</th>\n",
       "      <th>petal_length</th>\n",
       "      <th>petal_width</th>\n",
       "      <th>species</th>\n",
       "    </tr>\n",
       "  </thead>\n",
       "  <tbody>\n",
       "    <tr>\n",
       "      <th>0</th>\n",
       "      <td>5.1</td>\n",
       "      <td>3.5</td>\n",
       "      <td>1.4</td>\n",
       "      <td>0.2</td>\n",
       "      <td>setosa</td>\n",
       "    </tr>\n",
       "    <tr>\n",
       "      <th>1</th>\n",
       "      <td>4.9</td>\n",
       "      <td>3.0</td>\n",
       "      <td>1.4</td>\n",
       "      <td>0.2</td>\n",
       "      <td>setosa</td>\n",
       "    </tr>\n",
       "    <tr>\n",
       "      <th>2</th>\n",
       "      <td>4.7</td>\n",
       "      <td>3.2</td>\n",
       "      <td>1.3</td>\n",
       "      <td>0.2</td>\n",
       "      <td>setosa</td>\n",
       "    </tr>\n",
       "    <tr>\n",
       "      <th>3</th>\n",
       "      <td>4.6</td>\n",
       "      <td>3.1</td>\n",
       "      <td>1.5</td>\n",
       "      <td>0.2</td>\n",
       "      <td>setosa</td>\n",
       "    </tr>\n",
       "    <tr>\n",
       "      <th>4</th>\n",
       "      <td>5.0</td>\n",
       "      <td>3.6</td>\n",
       "      <td>1.4</td>\n",
       "      <td>0.2</td>\n",
       "      <td>setosa</td>\n",
       "    </tr>\n",
       "  </tbody>\n",
       "</table>\n",
       "</div>"
      ],
      "text/plain": [
       "   sepal_length  sepal_width  petal_length  petal_width species\n",
       "0           5.1          3.5           1.4          0.2  setosa\n",
       "1           4.9          3.0           1.4          0.2  setosa\n",
       "2           4.7          3.2           1.3          0.2  setosa\n",
       "3           4.6          3.1           1.5          0.2  setosa\n",
       "4           5.0          3.6           1.4          0.2  setosa"
      ]
     },
     "execution_count": 2,
     "metadata": {},
     "output_type": "execute_result"
    }
   ],
   "source": [
    "iris = sns.load_dataset('iris')\n",
    "iris.head()"
   ]
  },
  {
   "cell_type": "code",
   "execution_count": 3,
   "id": "dcc54234",
   "metadata": {},
   "outputs": [],
   "source": [
    "data = torch.tensor(iris[iris.columns[0:4]].values).float()"
   ]
  },
  {
   "cell_type": "code",
   "execution_count": 4,
   "id": "4d2ec5e5",
   "metadata": {},
   "outputs": [
    {
     "data": {
      "text/plain": [
       "tensor([0, 1, 2])"
      ]
     },
     "execution_count": 4,
     "metadata": {},
     "output_type": "execute_result"
    }
   ],
   "source": [
    "labels = torch.zeros(len(data), dtype=torch.long)\n",
    "labels[iris.species=='versicolor'] = 1\n",
    "labels[iris.species=='virginica'] = 2\n",
    "labels.unique()"
   ]
  },
  {
   "cell_type": "code",
   "execution_count": 5,
   "id": "bd18eca9",
   "metadata": {},
   "outputs": [],
   "source": [
    "train_data,test_data,train_labels,test_labels = train_test_split(data,labels,test_size=.2)\n",
    "\n",
    "train_data = TensorDataset(train_data,train_labels)\n",
    "test_data = TensorDataset(test_data,test_labels)\n",
    "\n",
    "batchsize = 16\n",
    "train_loader = DataLoader(train_data,batch_size = batchsize)\n",
    "test_loader = DataLoader(test_data,batch_size = test_data.tensors[0].shape[0])"
   ]
  },
  {
   "cell_type": "code",
   "execution_count": 6,
   "id": "106ca144",
   "metadata": {},
   "outputs": [],
   "source": [
    "class theModelClass(nn.Module):\n",
    "    def __init__(self,dropoutRate):\n",
    "        super().__init__()\n",
    "        \n",
    "        self.input = nn.Linear(4,12)\n",
    "        self.hidden = nn.Linear(12,12)\n",
    "        self.output = nn.Linear(12,3)\n",
    "        \n",
    "        self.dr = dropoutRate\n",
    "        \n",
    "    def forward(self,x):\n",
    "            \n",
    "            x = F.relu(self.input(x))\n",
    "            x = F.dropout(x,p=self.dr,training=self.training)\n",
    "            \n",
    "            x = F.relu(self.hidden(x))\n",
    "            x = F.dropout(x,p=self.dr,training=self.training)\n",
    "            \n",
    "            x = self.output(x)\n",
    "            return x\n",
    "            "
   ]
  },
  {
   "cell_type": "code",
   "execution_count": 7,
   "id": "5ead1986",
   "metadata": {},
   "outputs": [
    {
     "data": {
      "text/plain": [
       "tensor([[-0.3520, -0.2246, -0.1876],\n",
       "        [-0.2915, -0.2485, -0.1005],\n",
       "        [-0.3039, -0.2507, -0.0985],\n",
       "        [-0.3213, -0.2737, -0.1652],\n",
       "        [-0.4282, -0.2432, -0.1822],\n",
       "        [-0.7480, -0.1934,  0.1051],\n",
       "        [-0.3208, -0.0753, -0.2727],\n",
       "        [-0.2663, -0.2715, -0.1155],\n",
       "        [-0.0878, -0.3197, -0.0034],\n",
       "        [-0.4236, -0.3613,  0.0021]], grad_fn=<AddmmBackward0>)"
      ]
     },
     "execution_count": 7,
     "metadata": {},
     "output_type": "execute_result"
    }
   ],
   "source": [
    "tmpnet = theModelClass(.25)\n",
    "\n",
    "tmpdata = torch.randn((10,4))\n",
    "yHat = tmpnet(tmpdata)\n",
    "yHat"
   ]
  },
  {
   "cell_type": "code",
   "execution_count": 8,
   "id": "3f82302f",
   "metadata": {},
   "outputs": [],
   "source": [
    "def createANewModel(dropoutrate):\n",
    "    \n",
    "    ANNiris = theModelClass(dropoutrate)\n",
    "    \n",
    "    lossfun = nn.CrossEntropyLoss()\n",
    "    \n",
    "    optimizer = torch.optim.SGD(ANNiris.parameters(),lr=0.005)\n",
    "    \n",
    "    return ANNiris,lossfun,optimizer"
   ]
  },
  {
   "cell_type": "code",
   "execution_count": 9,
   "id": "fc2c7b3f",
   "metadata": {},
   "outputs": [],
   "source": [
    "numepochs = 500\n",
    "\n",
    "def trainTheModel():\n",
    "    \n",
    "    trainAcc = []\n",
    "    testAcc = []\n",
    "    \n",
    "    for epochi in range(numepochs):\n",
    "        \n",
    "        ANNiris.train()\n",
    "        \n",
    "        batchAcc = []\n",
    "        \n",
    "        for X,y in train_loader:\n",
    "            \n",
    "            yHat = ANNiris(X)\n",
    "            loss = lossfun(yHat,y)\n",
    "            \n",
    "            optimizer.zero_grad()\n",
    "            loss.backward()\n",
    "            optimizer.step()\n",
    "            \n",
    "            batchAcc.append(100*torch.mean((torch.argmax(yHat,axis=1) == y).float()).item())\n",
    "            \n",
    "        trainAcc.append( np.mean(batchAcc))\n",
    "        ANNiris.eval()\n",
    "        X,y = next(iter(test_loader))\n",
    "        predlabels = torch.argmax(ANNiris(X),axis = 1 )\n",
    "        testAcc.append(100*torch.mean((predlabels == y).float()).item())\n",
    "    return trainAcc,testAcc"
   ]
  },
  {
   "cell_type": "code",
   "execution_count": 10,
   "id": "afdb8966",
   "metadata": {},
   "outputs": [],
   "source": [
    "dropoutrate = .0\n",
    "ANNiris,lossfun,optimizer = createANewModel(dropoutrate)\n",
    "trainAcc,testAcc = trainTheModel()"
   ]
  },
  {
   "cell_type": "code",
   "execution_count": 11,
   "id": "f78834b5",
   "metadata": {},
   "outputs": [
    {
     "data": {
      "image/png": "[encoded data removed]",
      "text/plain": [
       "<Figure size 720x360 with 1 Axes>"
      ]
     },
     "metadata": {
      "needs_background": "light"
     },
     "output_type": "display_data"
    }
   ],
   "source": [
    "fig = plt.figure(figsize=(10,5))\n",
    "\n",
    "plt.plot(trainAcc,'bs-')\n",
    "plt.plot(testAcc,'ro-')\n",
    "plt.legend(['Train','Test'])\n",
    "plt.show()"
   ]
  },
  {
   "cell_type": "code",
   "execution_count": 12,
   "id": "4983cf20",
   "metadata": {},
   "outputs": [],
   "source": [
    "dropoutRates = np.arange(10)/10\n",
    "results = np.zeros((len(dropoutRates),2))\n",
    "\n",
    "for di in range(len(dropoutRates)):\n",
    "    \n",
    "    ANNiris,lossfun,optimizer = createANewModel(dropoutRates[di])\n",
    "    trainAcc,testAcc = trainTheModel()\n",
    "    \n",
    "    results[di,0] = np.mean(trainAcc[-50:])\n",
    "    results[di,1] = np.mean(testAcc[-50:])"
   ]
  },
  {
   "cell_type": "code",
   "execution_count": 13,
   "id": "e4047c4f",
   "metadata": {},
   "outputs": [
    {
     "data": {
      "image/png": "[encoded data removed]",
      "text/plain": [
       "<Figure size 1080x360 with 2 Axes>"
      ]
     },
     "metadata": {
      "needs_background": "light"
     },
     "output_type": "display_data"
    }
   ],
   "source": [
    "fig,ax = plt.subplots(1,2,figsize=(15,5))\n",
    "\n",
    "ax[0].plot(dropoutRates,results,'o-')\n",
    "ax[0].set_xlabel('Dropout proportion')\n",
    "ax[0].set_ylabel('Average accuracy')\n",
    "ax[0].legend(['Train','Test'])\n",
    "\n",
    "ax[1].plot(dropoutRates,-np.diff(results,axis=1),'o-')\n",
    "ax[1].plot([0,.9],[0,0],'k--')\n",
    "ax[1].set_xlabel('Dropout proportion')\n",
    "ax[1].set_ylabel('Train-test difference (acc%)')\n",
    "\n",
    "plt.show()"
   ]
  },
  {
   "cell_type": "code",
   "execution_count": null,
   "id": "1d0e6e4f",
   "metadata": {},
   "outputs": [],
   "source": []
  }
 ],
 "metadata": {
  "kernelspec": {
   "display_name": "Python 3 (ipykernel)",
   "language": "python",
   "name": "python3"
  },
  "language_info": {
   "codemirror_mode": {
    "name": "ipython",
    "version": 3
   },
   "file_extension": ".py",
   "mimetype": "text/x-python",
   "name": "python",
   "nbconvert_exporter": "python",
   "pygments_lexer": "ipython3",
   "version": "3.9.12"
  }
 },
 "nbformat": 4,
 "nbformat_minor": 5
}
