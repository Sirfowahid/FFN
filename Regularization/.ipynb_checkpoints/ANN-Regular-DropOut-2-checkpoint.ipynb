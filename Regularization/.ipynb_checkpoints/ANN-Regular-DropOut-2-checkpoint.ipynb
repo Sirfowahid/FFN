{
 "cells": [
  {
   "cell_type": "code",
   "execution_count": 1,
   "id": "eaaa836a",
   "metadata": {},
   "outputs": [],
   "source": [
    "import torch\n",
    "import torch.nn as nn\n",
    "import numpy as np\n",
    "import matplotlib.pyplot as plt\n",
    "import seaborn as sns\n",
    "import torch.nn.functional as F\n",
    "from torch.utils.data import TensorDataset,DataLoader\n",
    "from sklearn.model_selection import train_test_split"
   ]
  },
  {
   "cell_type": "code",
   "execution_count": 2,
   "id": "e01eb898",
   "metadata": {},
   "outputs": [
    {
     "data": {
      "text/html": [
       "<div>\n",
       "<style scoped>\n",
       "    .dataframe tbody tr th:only-of-type {\n",
       "        vertical-align: middle;\n",
       "    }\n",
       "\n",
       "    .dataframe tbody tr th {\n",
       "        vertical-align: top;\n",
       "    }\n",
       "\n",
       "    .dataframe thead th {\n",
       "        text-align: right;\n",
       "    }\n",
       "</style>\n",
       "<table border=\"1\" class=\"dataframe\">\n",
       "  <thead>\n",
       "    <tr style=\"text-align: right;\">\n",
       "      <th></th>\n",
       "      <th>sepal_length</th>\n",
       "      <th>sepal_width</th>\n",
       "      <th>petal_length</th>\n",
       "      <th>petal_width</th>\n",
       "      <th>species</th>\n",
       "    </tr>\n",
       "  </thead>\n",
       "  <tbody>\n",
       "    <tr>\n",
       "      <th>0</th>\n",
       "      <td>5.1</td>\n",
       "      <td>3.5</td>\n",
       "      <td>1.4</td>\n",
       "      <td>0.2</td>\n",
       "      <td>setosa</td>\n",
       "    </tr>\n",
       "    <tr>\n",
       "      <th>1</th>\n",
       "      <td>4.9</td>\n",
       "      <td>3.0</td>\n",
       "      <td>1.4</td>\n",
       "      <td>0.2</td>\n",
       "      <td>setosa</td>\n",
       "    </tr>\n",
       "    <tr>\n",
       "      <th>2</th>\n",
       "      <td>4.7</td>\n",
       "      <td>3.2</td>\n",
       "      <td>1.3</td>\n",
       "      <td>0.2</td>\n",
       "      <td>setosa</td>\n",
       "    </tr>\n",
       "    <tr>\n",
       "      <th>3</th>\n",
       "      <td>4.6</td>\n",
       "      <td>3.1</td>\n",
       "      <td>1.5</td>\n",
       "      <td>0.2</td>\n",
       "      <td>setosa</td>\n",
       "    </tr>\n",
       "    <tr>\n",
       "      <th>4</th>\n",
       "      <td>5.0</td>\n",
       "      <td>3.6</td>\n",
       "      <td>1.4</td>\n",
       "      <td>0.2</td>\n",
       "      <td>setosa</td>\n",
       "    </tr>\n",
       "  </tbody>\n",
       "</table>\n",
       "</div>"
      ],
      "text/plain": [
       "   sepal_length  sepal_width  petal_length  petal_width species\n",
       "0           5.1          3.5           1.4          0.2  setosa\n",
       "1           4.9          3.0           1.4          0.2  setosa\n",
       "2           4.7          3.2           1.3          0.2  setosa\n",
       "3           4.6          3.1           1.5          0.2  setosa\n",
       "4           5.0          3.6           1.4          0.2  setosa"
      ]
     },
     "execution_count": 2,
     "metadata": {},
     "output_type": "execute_result"
    }
   ],
   "source": [
    "iris = sns.load_dataset('iris')\n",
    "iris.head()"
   ]
  },
  {
   "cell_type": "code",
   "execution_count": 3,
   "id": "cbd5bf91",
   "metadata": {},
   "outputs": [],
   "source": [
    "data = torch.tensor(iris[iris.columns[0:4]].values).float()"
   ]
  },
  {
   "cell_type": "code",
   "execution_count": 4,
   "id": "0e27fb86",
   "metadata": {},
   "outputs": [
    {
     "data": {
      "text/plain": [
       "tensor([0, 1, 2])"
      ]
     },
     "execution_count": 4,
     "metadata": {},
     "output_type": "execute_result"
    }
   ],
   "source": [
    "labels = torch.zeros(len(data), dtype=torch.long)\n",
    "labels[iris.species=='versicolor'] = 1\n",
    "labels[iris.species=='virginica'] = 2\n",
    "labels.unique()"
   ]
  },
  {
   "cell_type": "code",
   "execution_count": 5,
   "id": "d57f84c8",
   "metadata": {},
   "outputs": [],
   "source": [
    "train_data,test_data,train_labels,test_labels = train_test_split(data,labels,test_size=.2)\n",
    "\n",
    "train_data = TensorDataset(train_data,train_labels)\n",
    "test_data = TensorDataset(test_data,test_labels)\n",
    "\n",
    "batchsize = 16\n",
    "train_loader = DataLoader(train_data,batch_size = batchsize)\n",
    "test_loader = DataLoader(test_data,batch_size = test_data.tensors[0].shape[0])"
   ]
  },
  {
   "cell_type": "code",
   "execution_count": 10,
   "id": "a50918ae",
   "metadata": {},
   "outputs": [],
   "source": [
    "class theModelClass(nn.Module):\n",
    "    def __init__(self,dropoutRate):\n",
    "        super().__init__()\n",
    "        \n",
    "        self.input = nn.Linear(4,12)\n",
    "        self.hidden = nn.Linear(12,12)\n",
    "        self.output = nn.Linear(12,3)\n",
    "        \n",
    "        self.dr = dropoutRate\n",
    "        \n",
    "    def forward(self,x):\n",
    "            \n",
    "            x = F.relu(self.input(x))\n",
    "            x = F.dropout(x,p=self.dr,training=self.training)\n",
    "            \n",
    "            x = F.relu(self.hidden(x))\n",
    "            x = F.dropout(x,p=self.dr,training=self.training)\n",
    "            \n",
    "            x = self.output(x)\n",
    "            return x\n",
    "            "
   ]
  },
  {
   "cell_type": "code",
   "execution_count": 11,
   "id": "7dd0cb67",
   "metadata": {},
   "outputs": [
    {
     "data": {
      "text/plain": [
       "tensor([[-0.1887, -0.1589, -0.2707],\n",
       "        [-0.0331, -0.2134, -0.0714],\n",
       "        [ 0.2248, -0.4560, -0.1705],\n",
       "        [ 0.2687, -0.4071, -0.1170],\n",
       "        [ 0.3273, -0.4378, -0.0193],\n",
       "        [ 0.1938, -0.4202, -0.1245],\n",
       "        [-0.2143,  0.0515, -0.0706],\n",
       "        [ 0.1489, -0.3016,  0.0546],\n",
       "        [ 0.1182, -0.3351, -0.0683],\n",
       "        [ 0.2905, -0.4274, -0.0869]], grad_fn=<AddmmBackward0>)"
      ]
     },
     "execution_count": 11,
     "metadata": {},
     "output_type": "execute_result"
    }
   ],
   "source": [
    "tmpnet = theModelClass(.25)\n",
    "\n",
    "tmpdata = torch.randn((10,4))\n",
    "yHat = tmpnet(tmpdata)\n",
    "yHat"
   ]
  },
  {
   "cell_type": "code",
   "execution_count": 12,
   "id": "6f101342",
   "metadata": {},
   "outputs": [],
   "source": [
    "def createANewModel(dropoutrate):\n",
    "    \n",
    "    ANNiris = theModelClass(dropoutrate)\n",
    "    \n",
    "    lossfun = nn.CrossEntropyLoss()\n",
    "    \n",
    "    optimizer = torch.optim.SGD(ANNiris.parameters(),lr=0.005)\n",
    "    \n",
    "    return ANNiris,lossfun,optimizer"
   ]
  },
  {
   "cell_type": "code",
   "execution_count": 17,
   "id": "7d31d016",
   "metadata": {},
   "outputs": [],
   "source": [
    "numepochs = 500\n",
    "\n",
    "def trainTheModel():\n",
    "    \n",
    "    trainAcc = []\n",
    "    testAcc = []\n",
    "    \n",
    "    for epochi in range(numepochs):\n",
    "        \n",
    "        ANNiris.train()\n",
    "        \n",
    "        batchAcc = []\n",
    "        \n",
    "        for X,y in train_loader:\n",
    "            \n",
    "            yHat = ANNiris(X)\n",
    "            loss = lossfun(yHat,y)\n",
    "            \n",
    "            optimizer.zero_grad()\n",
    "            loss.backward()\n",
    "            optimizer.step()\n",
    "            \n",
    "            batchAcc.append(100*torch.mean((torch.argmax(yHat,axis=1) == y).float()).item())\n",
    "            \n",
    "        trainAcc.append( np.mean(batchAcc))\n",
    "        ANNiris.eval()\n",
    "        X,y = next(iter(test_loader))\n",
    "        predlabels = torch.argmax(ANNiris(X),axis = 1 )\n",
    "        testAcc.append(100*torch.mean((predlabels == y).float()).item())\n",
    "    return trainAcc,testAcc"
   ]
  },
  {
   "cell_type": "code",
   "execution_count": 18,
   "id": "2fc3c5b8",
   "metadata": {},
   "outputs": [],
   "source": [
    "dropoutrate = .0\n",
    "ANNiris,lossfun,optimizer = createANewModel(dropoutrate)\n",
    "trainAcc,testAcc = trainTheModel()"
   ]
  },
  {
   "cell_type": "code",
   "execution_count": 19,
   "id": "a9753a1a",
   "metadata": {},
   "outputs": [
    {
     "data": {
      "image/png": "[encoded data removed]",
      "text/plain": [
       "<Figure size 720x360 with 1 Axes>"
      ]
     },
     "metadata": {
      "needs_background": "light"
     },
     "output_type": "display_data"
    }
   ],
   "source": [
    "fig = plt.figure(figsize=(10,5))\n",
    "\n",
    "plt.plot(trainAcc,'bs-')\n",
    "plt.plot(testAcc,'ro-')\n",
    "plt.legend(['Train','Test'])\n",
    "plt.show()"
   ]
  },
  {
   "cell_type": "code",
   "execution_count": null,
   "id": "cd409310",
   "metadata": {},
   "outputs": [],
   "source": []
  }
 ],
 "metadata": {
  "kernelspec": {
   "display_name": "Python 3 (ipykernel)",
   "language": "python",
   "name": "python3"
  },
  "language_info": {
   "codemirror_mode": {
    "name": "ipython",
    "version": 3
   },
   "file_extension": ".py",
   "mimetype": "text/x-python",
   "name": "python",
   "nbconvert_exporter": "python",
   "pygments_lexer": "ipython3",
   "version": "3.9.12"
  }
 },
 "nbformat": 4,
 "nbformat_minor": 5
}
