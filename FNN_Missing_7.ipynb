{
  "nbformat": 4,
  "nbformat_minor": 0,
  "metadata": {
    "colab": {
      "provenance": [],
      "authorship_tag": "ABX9TyPk9+DAsGcTcZf4EwcFij7C",
      "include_colab_link": true
    },
    "kernelspec": {
      "name": "python3",
      "display_name": "Python 3"
    },
    "language_info": {
      "name": "python"
    }
  },
  "cells": [
    {
      "cell_type": "markdown",
      "metadata": {
        "id": "view-in-github",
        "colab_type": "text"
      },
      "source": [
        "<a href=\"https://colab.research.google.com/github/Sirfowahid/FFN/blob/master/FNN_Missing_7.ipynb\" target=\"_parent\"><img src=\"https://colab.research.google.com/assets/colab-badge.svg\" alt=\"Open In Colab\"/></a>"
      ]
    },
    {
      "cell_type": "code",
      "execution_count": 1,
      "metadata": {
        "id": "gPLQsJNVLf6W"
      },
      "outputs": [],
      "source": [
        "import numpy as np\n",
        "import torch\n",
        "import torch.nn as nn\n",
        "import torch.nn.functional as F\n",
        "import matplotlib.pyplot as plt\n",
        "\n",
        "from torch.utils.data import TensorDataset,DataLoader\n",
        "from sklearn.model_selection import train_test_split\n",
        "from IPython import display\n",
        "display.set_matplotlib_formats('svg')"
      ]
    },
    {
      "cell_type": "code",
      "source": [
        "data = np.loadtxt(open('sample_data/mnist_train_small.csv','rb'),delimiter=',')\n",
        "\n",
        "labels = data[:,0]\n",
        "data = data[:,1:]"
      ],
      "metadata": {
        "id": "4jHdxMknOHTW"
      },
      "execution_count": 2,
      "outputs": []
    },
    {
      "cell_type": "code",
      "source": [
        "dataNorm = data / np.max(data)\n",
        "\n",
        "dataT   = torch.tensor( dataNorm ).float()\n",
        "labelsT = torch.tensor( labels ).long()\n",
        "\n",
        "\n",
        "\n",
        "\n",
        "where7 = labels==7\n",
        "\n",
        "\n",
        "dataNo7   = dataT[~where7,:]\n",
        "labelsNo7 = labelsT[~where7]\n",
        "data7     = dataT[where7,:] \n",
        "\n",
        "train_data = TensorDataset(dataNo7,labelsNo7)\n",
        "test_data  = TensorDataset(data7)\n",
        "\n",
        "\n",
        "batchsize    = 32\n",
        "train_loader = DataLoader(train_data,batch_size=batchsize,shuffle=True,drop_last=True)\n",
        "test_loader  = DataLoader(test_data,batch_size=test_data.tensors[0].shape[0])"
      ],
      "metadata": {
        "id": "Sp65wyl1OnTr"
      },
      "execution_count": 8,
      "outputs": []
    },
    {
      "cell_type": "code",
      "source": [
        "np.unique(labelsNo7)"
      ],
      "metadata": {
        "colab": {
          "base_uri": "https://localhost:8080/"
        },
        "id": "whD2U7CkO-GE",
        "outputId": "3babb1a5-8f33-483f-a54e-4502c8f655fb"
      },
      "execution_count": 9,
      "outputs": [
        {
          "output_type": "execute_result",
          "data": {
            "text/plain": [
              "array([0, 1, 2, 3, 4, 5, 6, 8, 9])"
            ]
          },
          "metadata": {},
          "execution_count": 9
        }
      ]
    },
    {
      "cell_type": "code",
      "source": [
        "# create a class for the model\n",
        "def createTheMNISTNet():\n",
        "\n",
        "  class mnistNet(nn.Module):\n",
        "    def __init__(self):\n",
        "      super().__init__()\n",
        "\n",
        "      ### input layer\n",
        "      self.input = nn.Linear(784,64)\n",
        "      \n",
        "      ### hidden layer\n",
        "      self.fc1 = nn.Linear(64,32)\n",
        "      self.fc2 = nn.Linear(32,32)\n",
        "\n",
        "      ### output layer\n",
        "      self.output = nn.Linear(32,10) # NOTE: still 10 outputs, but output #7 is never trained\n",
        "\n",
        "    # forward pass\n",
        "    def forward(self,x):\n",
        "      x = F.relu( self.input(x) )\n",
        "      x = F.relu( self.fc1(x) )\n",
        "      x = F.relu( self.fc2(x) )\n",
        "      return torch.log_softmax( self.output(x),axis=1 )\n",
        "      # NOTE: log-softmax output for later inspection\n",
        "  \n",
        "  # create the model instance\n",
        "  net = mnistNet()\n",
        "  \n",
        "  # loss function\n",
        "  lossfun = nn.NLLLoss()\n",
        "\n",
        "  # optimizer\n",
        "  optimizer = torch.optim.SGD(net.parameters(),lr=.01)\n",
        "\n",
        "  return net,lossfun,optimizer"
      ],
      "metadata": {
        "id": "8f8otgINPUR0"
      },
      "execution_count": 10,
      "outputs": []
    },
    {
      "cell_type": "code",
      "source": [],
      "metadata": {
        "id": "EvUhkRTyQIiI"
      },
      "execution_count": null,
      "outputs": []
    }
  ]
}