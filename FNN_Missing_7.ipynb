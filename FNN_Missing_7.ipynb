{
  "nbformat": 4,
  "nbformat_minor": 0,
  "metadata": {
    "colab": {
      "provenance": [],
      "authorship_tag": "ABX9TyOtUNBZUs76jTx2Uf9yc79k",
      "include_colab_link": true
    },
    "kernelspec": {
      "name": "python3",
      "display_name": "Python 3"
    },
    "language_info": {
      "name": "python"
    }
  },
  "cells": [
    {
      "cell_type": "markdown",
      "metadata": {
        "id": "view-in-github",
        "colab_type": "text"
      },
      "source": [
        "<a href=\"https://colab.research.google.com/github/Sirfowahid/FFN/blob/master/FNN_Missing_7.ipynb\" target=\"_parent\"><img src=\"https://colab.research.google.com/assets/colab-badge.svg\" alt=\"Open In Colab\"/></a>"
      ]
    },
    {
      "cell_type": "code",
      "execution_count": 1,
      "metadata": {
        "id": "gPLQsJNVLf6W"
      },
      "outputs": [],
      "source": [
        "import numpy as np\n",
        "import torch\n",
        "import torch.nn as nn\n",
        "import torch.nn.functional as F\n",
        "import matplotlib.pyplot as plt\n",
        "\n",
        "from torch.utils.data import TensorDataset,DataLoader\n",
        "from sklearn.model_selection import train_test_split\n",
        "from IPython import display\n",
        "display.set_matplotlib_formats('svg')"
      ]
    },
    {
      "cell_type": "code",
      "source": [
        "data = np.loadtxt(open('sample_data/mnist_train_small.csv','rb'),delimiter=',')\n",
        "\n",
        "labels = data[:,0]\n",
        "data = data[:,1:]"
      ],
      "metadata": {
        "id": "4jHdxMknOHTW"
      },
      "execution_count": 2,
      "outputs": []
    },
    {
      "cell_type": "code",
      "source": [
        "dataNorm = data / np.max(data)\n",
        "\n",
        "dataT   = torch.tensor( dataNorm ).float()\n",
        "labelsT = torch.tensor( labels ).long()\n",
        "\n",
        "\n",
        "\n",
        "\n",
        "where7 = labels==7\n",
        "\n",
        "\n",
        "dataNo7   = dataT[~where7,:]\n",
        "labelsNo7 = labelsT[~where7]\n",
        "data7     = dataT[where7,:] \n",
        "\n",
        "train_data = TensorDataset(dataNo7,labelsNo7)\n",
        "test_data  = TensorDataset(data7)\n",
        "\n",
        "\n",
        "batchsize    = 32\n",
        "train_loader = DataLoader(train_data,batch_size=batchsize,shuffle=True,drop_last=True)\n",
        "test_loader  = DataLoader(test_data,batch_size=test_data.tensors[0].shape[0])"
      ],
      "metadata": {
        "id": "Sp65wyl1OnTr"
      },
      "execution_count": 3,
      "outputs": []
    },
    {
      "cell_type": "code",
      "source": [
        "np.unique(labelsNo7)"
      ],
      "metadata": {
        "colab": {
          "base_uri": "https://localhost:8080/"
        },
        "id": "whD2U7CkO-GE",
        "outputId": "ac4cdf73-8412-45c5-cde1-da5975929252"
      },
      "execution_count": 4,
      "outputs": [
        {
          "output_type": "execute_result",
          "data": {
            "text/plain": [
              "array([0, 1, 2, 3, 4, 5, 6, 8, 9])"
            ]
          },
          "metadata": {},
          "execution_count": 4
        }
      ]
    },
    {
      "cell_type": "code",
      "source": [
        "# create a class for the model\n",
        "def createTheMNISTNet():\n",
        "\n",
        "  class mnistNet(nn.Module):\n",
        "    def __init__(self):\n",
        "      super().__init__()\n",
        "\n",
        "      ### input layer\n",
        "      self.input = nn.Linear(784,64)\n",
        "      \n",
        "      ### hidden layer\n",
        "      self.fc1 = nn.Linear(64,32)\n",
        "      self.fc2 = nn.Linear(32,32)\n",
        "\n",
        "      ### output layer\n",
        "      self.output = nn.Linear(32,10) # NOTE: still 10 outputs, but output #7 is never trained\n",
        "\n",
        "    # forward pass\n",
        "    def forward(self,x):\n",
        "      x = F.relu( self.input(x) )\n",
        "      x = F.relu( self.fc1(x) )\n",
        "      x = F.relu( self.fc2(x) )\n",
        "      return torch.log_softmax( self.output(x),axis=1 )\n",
        "      # NOTE: log-softmax output for later inspection\n",
        "  \n",
        "  # create the model instance\n",
        "  net = mnistNet()\n",
        "  \n",
        "  # loss function\n",
        "  lossfun = nn.NLLLoss()\n",
        "\n",
        "  # optimizer\n",
        "  optimizer = torch.optim.SGD(net.parameters(),lr=.01)\n",
        "\n",
        "  return net,lossfun,optimizer"
      ],
      "metadata": {
        "id": "8f8otgINPUR0"
      },
      "execution_count": 5,
      "outputs": []
    },
    {
      "cell_type": "code",
      "source": [
        "# a function that trains the model\n",
        "\n",
        "# NOTE: anything test-related can be deleted!\n",
        "\n",
        "def funtion2trainTheModel():\n",
        "\n",
        "  # number of epochs\n",
        "  numepochs = 100\n",
        "  \n",
        "  # create a new model\n",
        "  net,lossfun,optimizer = createTheMNISTNet()\n",
        "\n",
        "  # initialize losses\n",
        "  losses    = torch.zeros(numepochs)\n",
        "  trainAcc  = []\n",
        "\n",
        "\n",
        "  # loop over epochs\n",
        "  for epochi in range(numepochs):\n",
        "\n",
        "    # loop over training data batches\n",
        "    batchAcc  = []\n",
        "    batchLoss = []\n",
        "    for X,y in train_loader:\n",
        "\n",
        "      # forward pass and loss\n",
        "      yHat = net(X)\n",
        "      loss = lossfun(yHat,y)\n",
        "\n",
        "      # backprop\n",
        "      optimizer.zero_grad()\n",
        "      loss.backward()\n",
        "      optimizer.step()\n",
        "\n",
        "      # loss from this batch\n",
        "      batchLoss.append(loss.item())\n",
        "\n",
        "      # compute accuracy\n",
        "      matches = torch.argmax(yHat,axis=1) == y     # booleans (false/true)\n",
        "      matchesNumeric = matches.float()             # convert to numbers (0/1)\n",
        "      accuracyPct = 100*torch.mean(matchesNumeric) # average and x100\n",
        "      batchAcc.append( accuracyPct )               # add to list of accuracies\n",
        "    # end of batch loop...\n",
        "\n",
        "    # now that we've trained through the batches, get their average training accuracy\n",
        "    trainAcc.append( np.mean(batchAcc) )\n",
        "\n",
        "    # and get average losses across the batches\n",
        "    losses[epochi] = np.mean(batchLoss)\n",
        "  # end epochs\n",
        "\n",
        "  # function output\n",
        "  return trainAcc,losses,net\n"
      ],
      "metadata": {
        "id": "EvUhkRTyQIiI"
      },
      "execution_count": 6,
      "outputs": []
    },
    {
      "cell_type": "code",
      "source": [
        "trainAcc,losses,net = funtion2trainTheModel()\n"
      ],
      "metadata": {
        "id": "Hq7h3G99R2ps"
      },
      "execution_count": null,
      "outputs": []
    },
    {
      "cell_type": "code",
      "source": [
        "fig,ax = plt.subplots(1,2,figsize=(16,5))\n",
        "\n",
        "ax[0].plot(losses)\n",
        "ax[0].set_xlabel('Epochs')\n",
        "ax[0].set_ylabel('Loss')\n",
        "ax[0].set_ylim([0,3])\n",
        "ax[0].set_title('Model loss')\n",
        "\n",
        "ax[1].plot(trainAcc,label='Train')\n",
        "ax[1].set_xlabel('Epochs')\n",
        "ax[1].set_ylabel('Accuracy (%)')\n",
        "ax[1].set_ylim([10,100])\n",
        "ax[1].set_title(f'Final model train accuracy: {trainAcc[-1]:.2f}%')\n",
        "ax[1].legend()\n",
        "\n",
        "plt.show()"
      ],
      "metadata": {
        "id": "XJ--fXw2nJjF"
      },
      "execution_count": null,
      "outputs": []
    },
    {
      "cell_type": "code",
      "source": [
        "# run the model through for the test data\n",
        "X = next(iter(test_loader))[0] # note: only need one output, hence the [0]\n",
        "predictions = net(X).detach()\n",
        "\n",
        "# save the model guesses\n",
        "guesses = torch.argmax(predictions,axis=1).detach()"
      ],
      "metadata": {
        "id": "uvStxwZ2nbr5"
      },
      "execution_count": null,
      "outputs": []
    },
    {
      "cell_type": "code",
      "source": [
        "# show some 7's and their labels\n",
        "\n",
        "fig,axs = plt.subplots(3,4,figsize=(10,6))\n",
        "\n",
        "someRandom7s = np.random.choice(len(X),12)\n",
        "\n",
        "for i,ax in enumerate(axs.flatten()):\n",
        "\n",
        "  thisimg = X[ someRandom7s[i] ].view(28,28)\n",
        "  ax.imshow(thisimg,cmap='gray')\n",
        "  ax.set_title(f'The number {guesses[ someRandom7s[i] ]}')\n",
        "  ax.axis('off')\n",
        "\n",
        "plt.tight_layout()\n",
        "plt.show()"
      ],
      "metadata": {
        "id": "uM2mDE79nq4Y"
      },
      "execution_count": null,
      "outputs": []
    },
    {
      "cell_type": "code",
      "source": [
        "# which numbers are most likely to be confused with 7?\n",
        "print( np.unique(guesses) )\n",
        "\n",
        "probMistaken = np.zeros(10)\n",
        "\n",
        "for i in range(10):\n",
        "  probMistaken[i] = torch.mean((guesses==i).float())\n",
        "\n",
        "plt.bar(range(10),probMistaken)\n",
        "plt.xticks(range(10))\n",
        "plt.xlabel('Number')\n",
        "plt.ylabel('Proportion of times \"7\" was labeled')\n",
        "plt.show()"
      ],
      "metadata": {
        "id": "4R7yebMkntza"
      },
      "execution_count": null,
      "outputs": []
    },
    {
      "cell_type": "code",
      "source": [
        "# Evidence for all numbers from one sample\n",
        "sample2show = 30\n",
        "\n",
        "plt.bar(range(10),torch.exp(predictions[sample2show]))\n",
        "plt.xticks(range(10))\n",
        "plt.xlabel('Number')\n",
        "plt.ylabel('Evidence for that number')\n",
        "plt.show()"
      ],
      "metadata": {
        "id": "2dJEo2KuA9RQ"
      },
      "execution_count": null,
      "outputs": []
    },
    {
      "cell_type": "code",
      "source": [],
      "metadata": {
        "id": "kvTYKo66A-ML"
      },
      "execution_count": null,
      "outputs": []
    }
  ]
}