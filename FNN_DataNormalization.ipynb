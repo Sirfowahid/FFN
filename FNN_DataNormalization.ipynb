{
  "nbformat": 4,
  "nbformat_minor": 0,
  "metadata": {
    "colab": {
      "provenance": [],
      "authorship_tag": "ABX9TyMdFEupn541gheXFb2fBydW",
      "include_colab_link": true
    },
    "kernelspec": {
      "name": "python3",
      "display_name": "Python 3"
    },
    "language_info": {
      "name": "python"
    }
  },
  "cells": [
    {
      "cell_type": "markdown",
      "metadata": {
        "id": "view-in-github",
        "colab_type": "text"
      },
      "source": [
        "<a href=\"https://colab.research.google.com/github/Sirfowahid/FFN/blob/master/FNN_DataNormalization.ipynb\" target=\"_parent\"><img src=\"https://colab.research.google.com/assets/colab-badge.svg\" alt=\"Open In Colab\"/></a>"
      ]
    },
    {
      "cell_type": "code",
      "execution_count": 1,
      "metadata": {
        "id": "oTuW6FPPGsxb"
      },
      "outputs": [],
      "source": [
        "import numpy as np\n",
        "\n",
        "import torch\n",
        "import torch.nn as nn\n",
        "import torch.nn.functional as F\n",
        "from torch.utils.data import DataLoader,TensorDataset\n",
        "from sklearn.model_selection import train_test_split\n",
        "\n",
        "import matplotlib.pyplot as plt\n",
        "from IPython import display\n",
        "display.set_matplotlib_formats('svg')"
      ]
    },
    {
      "cell_type": "code",
      "source": [
        "data = np.loadtxt(open('sample_data/mnist_train_small.csv','rb'),delimiter=',')\n",
        "\n",
        "labels = data[:,0]\n",
        "data   = data[:,1:]"
      ],
      "metadata": {
        "id": "ZD-e3NlMGzjU"
      },
      "execution_count": 2,
      "outputs": []
    },
    {
      "cell_type": "code",
      "source": [
        "\n",
        "dataT   = torch.tensor( data ).float()\n",
        "labelsT = torch.tensor( labels ).long()\n",
        "\n",
        "train_data,test_data, train_labels,test_labels = train_test_split(dataT, labelsT, test_size=.1)\n",
        "\n",
        "train_data = train_data/torch.max(train_data)\n",
        "test_data  = test_data/torch.max(test_data)\n",
        "\n",
        "\n",
        "train_data = TensorDataset(train_data,train_labels)\n",
        "test_data  = TensorDataset(test_data,test_labels)\n",
        "\n",
        "batchsize    = 32\n",
        "train_loader = DataLoader(train_data,batch_size=batchsize,shuffle=True,drop_last=True)\n",
        "test_loader  = DataLoader(test_data,batch_size=test_data.tensors[0].shape[0])"
      ],
      "metadata": {
        "id": "TfR7VttFG2iV"
      },
      "execution_count": 3,
      "outputs": []
    },
    {
      "cell_type": "code",
      "source": [
        "\n",
        "print('Training data range %g to %g' \n",
        "      %(torch.min(train_loader.dataset.tensors[0]),torch.max(train_loader.dataset.tensors[0])) )\n",
        "\n",
        "print('Test data range %g to %g' \n",
        "      %(torch.min(test_loader.dataset.tensors[0]),torch.max(test_loader.dataset.tensors[0])) )"
      ],
      "metadata": {
        "colab": {
          "base_uri": "https://localhost:8080/"
        },
        "id": "fT3Nkrb_HB6u",
        "outputId": "0d719160-82fd-42d0-b7dc-90381383f6a3"
      },
      "execution_count": 4,
      "outputs": [
        {
          "output_type": "stream",
          "name": "stdout",
          "text": [
            "Training data range 0 to 1\n",
            "Test data range 0 to 1\n"
          ]
        }
      ]
    },
    {
      "cell_type": "code",
      "source": [
        "def createTheMNISTNet():\n",
        "\n",
        "  class mnistNet(nn.Module):\n",
        "    def __init__(self):\n",
        "      super().__init__()\n",
        "\n",
        "      \n",
        "      self.input = nn.Linear(784,64)\n",
        "      \n",
        "      \n",
        "      self.fc1 = nn.Linear(64,32)\n",
        "      self.fc2 = nn.Linear(32,32)\n",
        "\n",
        "      \n",
        "      self.output = nn.Linear(32,10)\n",
        "\n",
        "    \n",
        "    def forward(self,x):\n",
        "      x = F.relu( self.input(x) )\n",
        "      x = F.relu( self.fc1(x) )\n",
        "      x = F.relu( self.fc2(x) )\n",
        "      return self.output(x)\n",
        "  \n",
        "  \n",
        "  net = mnistNet()\n",
        "  \n",
        "  \n",
        "  lossfun = nn.CrossEntropyLoss()\n",
        "\n",
        "  \n",
        "  optimizer = torch.optim.SGD(net.parameters(),lr=.01)\n",
        "\n",
        "  return net,lossfun,optimizer"
      ],
      "metadata": {
        "id": "8uhOWT0XHEkk"
      },
      "execution_count": 5,
      "outputs": []
    },
    {
      "cell_type": "code",
      "source": [
        "def funtion2trainTheModel():\n",
        "\n",
        "  \n",
        "  numepochs = 60\n",
        "  \n",
        "  \n",
        "  net,lossfun,optimizer = createTheMNISTNet()\n",
        "\n",
        "  \n",
        "  losses    = torch.zeros((numepochs,2))\n",
        "  trainAcc  = []\n",
        "  testAcc   = []\n",
        "\n",
        "\n",
        "  \n",
        "  for epochi in range(numepochs):\n",
        "\n",
        "    \n",
        "    batchAcc  = []\n",
        "    batchLoss = []\n",
        "    for X,y in train_loader:\n",
        "\n",
        "      \n",
        "      yHat = net(X)\n",
        "      loss = lossfun(yHat,y)\n",
        "\n",
        "      \n",
        "      optimizer.zero_grad()\n",
        "      loss.backward()\n",
        "      optimizer.step()\n",
        "\n",
        "      \n",
        "      batchLoss.append(loss.item())\n",
        "\n",
        "      \n",
        "      matches = torch.argmax(yHat,axis=1) == y     \n",
        "      matchesNumeric = matches.float()             \n",
        "      accuracyPct = 100*torch.mean(matchesNumeric) \n",
        "      batchAcc.append( accuracyPct )               \n",
        "    trainAcc.append( np.mean(batchAcc) )\n",
        "\n",
        "    \n",
        "    losses[epochi,0] = np.mean(batchLoss)\n",
        "\n",
        "    \n",
        "    X,y = next(iter(test_loader)) \n",
        "    with torch.no_grad():\n",
        "      yHat = net(X)\n",
        "      \n",
        "    \n",
        "    testAcc.append( 100*torch.mean((torch.argmax(yHat,axis=1)==y).float()) )\n",
        "    loss = lossfun(yHat,y)\n",
        "    losses[epochi,1] = loss.item()\n",
        "\n",
        "  \n",
        "\n",
        "  \n",
        "  return trainAcc,testAcc,losses,net\n"
      ],
      "metadata": {
        "id": "Kw3d7OsDHPiZ"
      },
      "execution_count": 6,
      "outputs": []
    },
    {
      "cell_type": "code",
      "source": [],
      "metadata": {
        "id": "s_mCQBWfH3V5"
      },
      "execution_count": null,
      "outputs": []
    }
  ]
}