{
  "nbformat": 4,
  "nbformat_minor": 0,
  "metadata": {
    "colab": {
      "provenance": [],
      "authorship_tag": "ABX9TyOUsVWgaqLvXlZ3DAtl/d/F",
      "include_colab_link": true
    },
    "kernelspec": {
      "name": "python3",
      "display_name": "Python 3"
    },
    "language_info": {
      "name": "python"
    }
  },
  "cells": [
    {
      "cell_type": "markdown",
      "metadata": {
        "id": "view-in-github",
        "colab_type": "text"
      },
      "source": [
        "<a href=\"https://colab.research.google.com/github/Sirfowahid/FFN/blob/master/FNN_BredthVsDepth.ipynb\" target=\"_parent\"><img src=\"https://colab.research.google.com/assets/colab-badge.svg\" alt=\"Open In Colab\"/></a>"
      ]
    },
    {
      "cell_type": "code",
      "execution_count": 3,
      "metadata": {
        "id": "kBKkp6CdpUQ4"
      },
      "outputs": [],
      "source": [
        "import numpy as np\n",
        "\n",
        "import torch\n",
        "import torch.nn as nn\n",
        "import torch.nn.functional as F\n",
        "from torch.utils.data import DataLoader,TensorDataset\n",
        "from sklearn.model_selection import train_test_split\n",
        "\n",
        "import matplotlib.pyplot as plt\n",
        "from IPython import display\n",
        "display.set_matplotlib_formats('svg')"
      ]
    },
    {
      "cell_type": "code",
      "source": [
        "data = np.loadtxt(open('sample_data/mnist_train_small.csv','rb'),delimiter=',')\n",
        "labels = data[:,0]\n",
        "data = data[:,1:]\n",
        "dataNorm = data / np.max(data)"
      ],
      "metadata": {
        "id": "XjKSBpvGpZ6r"
      },
      "execution_count": 2,
      "outputs": []
    },
    {
      "cell_type": "code",
      "source": [
        "dataT = torch.tensor(dataNorm).float()\n",
        "labelsT = torch.tensor(labels).long()\n",
        "\n",
        "train_data,test_data,train_labels,test_labels = train_test_split(dataT,labelsT,test_size=.1)\n",
        "\n",
        "train_dataset = TensorDataset(train_data,train_labels)\n",
        "test_dataset = TensorDataset(test_data,test_labels)\n",
        "\n",
        "batchsize = 32\n",
        "train_loader = DataLoader(train_dataset,shuffle=True,batch_size=batchsize,drop_last=True)\n",
        "test_loader = DataLoader(test_dataset,batch_size=test_dataset.tensors[0].shape[0])"
      ],
      "metadata": {
        "id": "pAix_qwipzIl"
      },
      "execution_count": 4,
      "outputs": []
    },
    {
      "cell_type": "code",
      "source": [
        "def createTheMNISTNet(nUnits,nLayers):\n",
        "\n",
        "  class mnistNet(nn.Module):\n",
        "\n",
        "    def __init__(self,nUnits,nLayers):\n",
        "      super().__init__()\n",
        "\n",
        "      self.layers = nn.ModuleDict()\n",
        "      self.nLayers = nLayers\n",
        "\n",
        "      self.layers['input'] = nn.Linear(784,nUnits)\n",
        "\n",
        "      for i in range(nLayers):\n",
        "        self.layers[f'hidden{i}'] = nn.Linear(nUnits,nUnits)\n",
        "      self.layers['output'] = nn.Linear(nUnits,10)\n",
        "\n",
        "    def forward(self,x):\n",
        "\n",
        "      x = self.layers['input'](x)\n",
        "\n",
        "      for i in range(self.nLayers):\n",
        "        x = F.relu(self.layers[f'hidden{i}'](x))\n",
        "\n",
        "      x = self.layers['output'](x)\n",
        "\n",
        "      return x\n",
        "  \n",
        "  net = mnistNet(nUnits,nLayers)\n",
        "\n",
        "  lossfun = nn.CrossEntropyLoss()\n",
        "\n",
        "  optimizer = torch.optim.SGD(net.parameters(),lr=.01)\n",
        "\n",
        "  return net,lossfun,optimizer"
      ],
      "metadata": {
        "id": "DswaTGQnp7iX"
      },
      "execution_count": 5,
      "outputs": []
    },
    {
      "cell_type": "code",
      "source": [
        "nUnitsPerLayer = 12\n",
        "nLayers = 4\n",
        "net = createTheMNISTNet(nUnitsPerLayer,nLayers)\n",
        "net"
      ],
      "metadata": {
        "colab": {
          "base_uri": "https://localhost:8080/"
        },
        "id": "tUBazyuSqQ_K",
        "outputId": "2cca2c70-a5aa-4018-fba7-00d8409f4004"
      },
      "execution_count": 6,
      "outputs": [
        {
          "output_type": "execute_result",
          "data": {
            "text/plain": [
              "(mnistNet(\n",
              "   (layers): ModuleDict(\n",
              "     (input): Linear(in_features=784, out_features=12, bias=True)\n",
              "     (hidden0): Linear(in_features=12, out_features=12, bias=True)\n",
              "     (hidden1): Linear(in_features=12, out_features=12, bias=True)\n",
              "     (hidden2): Linear(in_features=12, out_features=12, bias=True)\n",
              "     (hidden3): Linear(in_features=12, out_features=12, bias=True)\n",
              "     (output): Linear(in_features=12, out_features=10, bias=True)\n",
              "   )\n",
              " ), CrossEntropyLoss(), SGD (\n",
              " Parameter Group 0\n",
              "     dampening: 0\n",
              "     foreach: None\n",
              "     lr: 0.01\n",
              "     maximize: False\n",
              "     momentum: 0\n",
              "     nesterov: False\n",
              "     weight_decay: 0\n",
              " ))"
            ]
          },
          "metadata": {},
          "execution_count": 6
        }
      ]
    },
    {
      "cell_type": "code",
      "source": [
        "def func2trainTheModel(nUnits,nLayers):\n",
        "\n",
        "  numepochs = 60\n",
        "\n",
        "  net,lossfun,optimizer = createTheMNISTNet(nUnits,nLayers)\n",
        "\n",
        "  losses = []\n",
        "  trainAcc = []\n",
        "  testAcc = []\n",
        "\n",
        "  for epochi in range(numepochs):\n",
        "\n",
        "    batchLoss = []\n",
        "    batchAcc = []\n",
        "\n",
        "    for X,y in train_loader:\n",
        "\n",
        "      yHat = net(X)\n",
        "      loss = lossfun(yHat,y)\n",
        "\n",
        "      optimizer.zero_grad()\n",
        "      loss.backward()\n",
        "      optimizer.step()\n",
        "\n",
        "      batchLoss.append(loss.item())\n",
        "\n",
        "      matches = torch.argmax(yHat,axis=1) == y\n",
        "      matchNumeric = matches.float()\n",
        "      accPct = 100*torch.mean(matchNumeric)\n",
        "      batchAcc.append(accPct)\n",
        "    \n",
        "    trainAcc.append(np.mean(batchAcc))\n",
        "    losses[epochi] = np.mean(batchLoss)\n",
        "\n",
        "    X,y = next(iter(test_loader))\n",
        "    with torch.no_grad():\n",
        "      yHat = net(X)\n",
        "    \n",
        "    testAcc.append(100*torch.mean((torch.argmax(yHat,axis=1)==y).float()).item())\n",
        "  \n",
        "  return trainAcc,testAcc,losses,net\n",
        "\n",
        "\n"
      ],
      "metadata": {
        "id": "Hj7Gx4WnqZ5F"
      },
      "execution_count": 7,
      "outputs": []
    },
    {
      "cell_type": "code",
      "source": [
        "numlayers = range(1,4)"
      ],
      "metadata": {
        "id": "mSCgoVcpqbGJ"
      },
      "execution_count": 2,
      "outputs": []
    }
  ]
}