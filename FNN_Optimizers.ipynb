{
  "nbformat": 4,
  "nbformat_minor": 0,
  "metadata": {
    "colab": {
      "provenance": [],
      "authorship_tag": "ABX9TyN+sbftyii7opAz6QrTSDh+",
      "include_colab_link": true
    },
    "kernelspec": {
      "name": "python3",
      "display_name": "Python 3"
    },
    "language_info": {
      "name": "python"
    }
  },
  "cells": [
    {
      "cell_type": "markdown",
      "metadata": {
        "id": "view-in-github",
        "colab_type": "text"
      },
      "source": [
        "<a href=\"https://colab.research.google.com/github/Sirfowahid/FFN/blob/master/FNN_Optimizers.ipynb\" target=\"_parent\"><img src=\"https://colab.research.google.com/assets/colab-badge.svg\" alt=\"Open In Colab\"/></a>"
      ]
    },
    {
      "cell_type": "code",
      "execution_count": 2,
      "metadata": {
        "id": "-utdL3KD0GaD"
      },
      "outputs": [],
      "source": [
        "import numpy as np\n",
        "import torch\n",
        "import torch.nn as nn\n",
        "import torch.nn.functional as F\n",
        "from torch.utils.data import TensorDataset,DataLoader\n",
        "from sklearn.model_selection import train_test_split\n",
        "import matplotlib.pyplot as plt\n",
        "from IPython import display\n",
        "display.set_matplotlib_formats('svg') "
      ]
    },
    {
      "cell_type": "code",
      "source": [
        "data = np.loadtxt(open('sample_data/mnist_train_small.csv','rb'),delimiter=',')\n",
        "\n",
        "labels = data[:,0]\n",
        "data = data[:,1:]\n",
        "\n",
        "dataNorm = data/np.max(data)"
      ],
      "metadata": {
        "id": "qBZ1vuiI0sFs"
      },
      "execution_count": 4,
      "outputs": []
    },
    {
      "cell_type": "code",
      "source": [
        "dataT = torch.tensor(dataNorm).float()\n",
        "labelsT = torch.tensor(labels).long()\n",
        "\n",
        "train_data,test_data,train_labels,test_labels = train_test_split(dataT,labelsT,test_size=.1)\n",
        "\n",
        "train_dataset = TensorDataset(train_data,train_labels)\n",
        "test_dataset = TensorDataset(test_data,test_labels)\n",
        "\n",
        "batchsize = 32\n",
        "train_loader = DataLoader(train_dataset,batch_size=batchsize,shuffle=True,drop_last=True)\n",
        "test_loader = DataLoader(test_dataset,batch_size=test_dataset.tensors[0].shape[0])"
      ],
      "metadata": {
        "id": "dU0jWEjm1QiY"
      },
      "execution_count": 5,
      "outputs": []
    },
    {
      "cell_type": "code",
      "source": [
        "from torch.optim import optimizer\n",
        "def createTheMNISTNet(optimizerAlgo,learningrate):\n",
        "\n",
        "  class mnistnet(nn.Module):\n",
        "\n",
        "    def __init__(self):\n",
        "      super().__init__()\n",
        "\n",
        "      self.input = nn.Linear(784,64)\n",
        "\n",
        "      self.fc1 = nn.Linear(64,32)\n",
        "      self.fc2 = nn.Linear(32,32)\n",
        "\n",
        "      self.output = nn.Linear(32,10)\n",
        "\n",
        "    def forward(self,x):\n",
        "\n",
        "      x = F.relu(self.input(x))\n",
        "      x = F.relu(self.fc1(x))\n",
        "      x = F.relu(self.fc2(x))\n",
        "\n",
        "      return self.output(x)\n",
        "  \n",
        "  net = mnistnet()\n",
        "\n",
        "  lossfun = nn.CrossEntropyLoss()\n",
        "\n",
        "  optifun = getattr(torch.optim,optimizerAlgo)\n",
        "  optimizer = optifun(net.parameters(),lr = learningrate)\n",
        "\n",
        "  return net,lossfun,optimizer"
      ],
      "metadata": {
        "id": "2iHP6oSb2Qk6"
      },
      "execution_count": 6,
      "outputs": []
    },
    {
      "cell_type": "code",
      "source": [
        "def func2trainTheModel(optimizerAlgo,learningrate):\n",
        "\n",
        "  numepochs = 100\n",
        "\n",
        "  net,lossfun,optimizer = createTheMNISTNet(optimizerAlgo,learningrate)\n",
        "\n",
        "  losses = torch.zeros(numepochs)\n",
        "  trainAcc = []\n",
        "  testAcc = []\n",
        "\n",
        "  for epochi in range(numepochs):\n",
        "\n",
        "    batchAcc = []\n",
        "    batchLoss = []\n",
        "\n",
        "    for X,y in train_loader:\n",
        "\n",
        "      yHat = net(X)\n",
        "      loss = lossfun(yHat,y)\n",
        "\n",
        "      optimizer.zero_grad()\n",
        "      loss.backward()\n",
        "      optimizer.step()\n",
        "\n",
        "      batchLoss.append(loss.item())\n",
        "\n",
        "      matches = torch.argmax(yHat,axis=1)==y\n",
        "      matchesNumeric = matches.float()\n",
        "      accPct = 100*torch.mean(matchesNumeric)\n",
        "      batchAcc.append(accPct)\n",
        "\n",
        "    trainAcc.append(np.mean(batchAcc))\n",
        "    losses[epochi] = np.mean(batchLoss)\n",
        "\n",
        "    X,y = next(iter(test_loader))\n",
        "    with torch.no_grad():\n",
        "      yHat = net(X)\n",
        "\n",
        "    testAcc.append(100*torch.mean((torch.argmax(yHat,axis=1)==y).float()).item())\n",
        "  \n",
        "  return trainAcc,testAcc,losses,net\n"
      ],
      "metadata": {
        "id": "ZvhrmCup4Oqm"
      },
      "execution_count": null,
      "outputs": []
    }
  ]
}